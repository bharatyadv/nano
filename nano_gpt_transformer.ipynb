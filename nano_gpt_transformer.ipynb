{
  "cells": [
    {
      "cell_type": "code",
      "source": [
        "# loading the dataset, downloading the tiny shakespeare dataset from github\n",
        "!wget https://raw.githubusercontent.com/bharatyadv/mini-gpt/main/input.txt"
      ],
      "metadata": {
        "colab": {
          "base_uri": "https://localhost:8080/"
        },
        "id": "rzb-okY3sqIi",
        "outputId": "5d7699e0-d5b3-4eea-be13-12cb9a17f749"
      },
      "execution_count": 1,
      "outputs": [
        {
          "output_type": "stream",
          "name": "stdout",
          "text": [
            "--2024-05-13 16:04:41--  https://raw.githubusercontent.com/bharatyadv/mini-gpt/main/input.txt\n",
            "Resolving raw.githubusercontent.com (raw.githubusercontent.com)... 185.199.108.133, 185.199.109.133, 185.199.110.133, ...\n",
            "Connecting to raw.githubusercontent.com (raw.githubusercontent.com)|185.199.108.133|:443... connected.\n",
            "HTTP request sent, awaiting response... 200 OK\n",
            "Length: 1115394 (1.1M) [text/plain]\n",
            "Saving to: ‘input.txt’\n",
            "\n",
            "\rinput.txt             0%[                    ]       0  --.-KB/s               \rinput.txt           100%[===================>]   1.06M  --.-KB/s    in 0.03s   \n",
            "\n",
            "2024-05-13 16:04:41 (35.3 MB/s) - ‘input.txt’ saved [1115394/1115394]\n",
            "\n"
          ]
        }
      ]
    },
    {
      "cell_type": "code",
      "source": [
        "#reding the input file\n",
        "with open('input.txt','r',encoding='utf-8') as f:\n",
        "  data = f.read()"
      ],
      "metadata": {
        "id": "1sNJtVDhszYg"
      },
      "execution_count": 5,
      "outputs": []
    },
    {
      "cell_type": "code",
      "source": [
        "print('length of dataset in characters: ', len(data))"
      ],
      "metadata": {
        "colab": {
          "base_uri": "https://localhost:8080/"
        },
        "id": "Hg-XFs5vs0jy",
        "outputId": "704fdf37-e025-4654-f190-3f586e90b715"
      },
      "execution_count": 6,
      "outputs": [
        {
          "output_type": "stream",
          "name": "stdout",
          "text": [
            "length of dataset in characters:  1115394\n"
          ]
        }
      ]
    },
    {
      "cell_type": "code",
      "source": [
        "#printing first 1000 characters\n",
        "print(data[:1000])"
      ],
      "metadata": {
        "colab": {
          "base_uri": "https://localhost:8080/"
        },
        "id": "_erla2yvs3K8",
        "outputId": "f3498598-2f38-480c-c270-5b7e4f8e5c91"
      },
      "execution_count": 7,
      "outputs": [
        {
          "output_type": "stream",
          "name": "stdout",
          "text": [
            "First Citizen:\n",
            "Before we proceed any further, hear me speak.\n",
            "\n",
            "All:\n",
            "Speak, speak.\n",
            "\n",
            "First Citizen:\n",
            "You are all resolved rather to die than to famish?\n",
            "\n",
            "All:\n",
            "Resolved. resolved.\n",
            "\n",
            "First Citizen:\n",
            "First, you know Caius Marcius is chief enemy to the people.\n",
            "\n",
            "All:\n",
            "We know't, we know't.\n",
            "\n",
            "First Citizen:\n",
            "Let us kill him, and we'll have corn at our own price.\n",
            "Is't a verdict?\n",
            "\n",
            "All:\n",
            "No more talking on't; let it be done: away, away!\n",
            "\n",
            "Second Citizen:\n",
            "One word, good citizens.\n",
            "\n",
            "First Citizen:\n",
            "We are accounted poor citizens, the patricians good.\n",
            "What authority surfeits on would relieve us: if they\n",
            "would yield us but the superfluity, while it were\n",
            "wholesome, we might guess they relieved us humanely;\n",
            "but they think we are too dear: the leanness that\n",
            "afflicts us, the object of our misery, is as an\n",
            "inventory to particularise their abundance; our\n",
            "sufferance is a gain to them Let us revenge this with\n",
            "our pikes, ere we become rakes: for the gods know I\n",
            "speak this in hunger for bread, not in thirst for revenge.\n",
            "\n",
            "\n"
          ]
        }
      ]
    },
    {
      "cell_type": "code",
      "execution_count": null,
      "metadata": {
        "execution": {
          "iopub.execute_input": "2020-10-04T17:15:43.931335Z",
          "iopub.status.busy": "2020-10-04T17:15:43.930526Z",
          "iopub.status.idle": "2020-10-04T17:15:43.932963Z",
          "shell.execute_reply": "2020-10-04T17:15:43.933479Z"
        },
        "papermill": {
          "duration": 0.024169,
          "end_time": "2020-10-04T17:15:43.933579",
          "exception": false,
          "start_time": "2020-10-04T17:15:43.909410",
          "status": "completed"
        },
        "tags": [],
        "id": "lLwbhPiFsmeW"
      },
      "outputs": [],
      "source": [
        "import torch\n",
        "import torch.nn as nn\n",
        "from torch.nn import functional as F\n",
        "\n",
        "import math\n",
        "from torch.utils.data import Dataset"
      ]
    },
    {
      "cell_type": "code",
      "source": [
        "#identfying unique text/characters/alphabets in the text and their total numbers\n",
        "chars = sorted(list(set(text)))\n",
        "vocab_size = len(chars)\n",
        "print(''.join(chars))\n",
        "print(vocab_size)"
      ],
      "metadata": {
        "colab": {
          "base_uri": "https://localhost:8080/"
        },
        "id": "5oXCgSSRtTtO",
        "outputId": "ae89aa70-bd00-4d68-cff2-c7590d8c94c3"
      },
      "execution_count": 8,
      "outputs": [
        {
          "output_type": "stream",
          "name": "stdout",
          "text": [
            "\n",
            " !$&',-.3:;?ABCDEFGHIJKLMNOPQRSTUVWXYZabcdefghijklmnopqrstuvwxyz\n",
            "65\n"
          ]
        }
      ]
    },
    {
      "cell_type": "code",
      "source": [
        "#converting characters to some specific value according to a grammar (tokenization)\n",
        "stoi = { ch:i for i,ch in enumerate(chars) } #converting characters into their ascii values\n",
        "itos = { i:ch for i,ch in enumerate(chars) }\n",
        "encode = lambda s: [stoi[c] for c in s] #This encodes a string in list of integers\n",
        "decode = lambda l: ''.join([itos[i] for i in l])#This decodes list of integers in a string"
      ],
      "metadata": {
        "id": "25EG5Lp6tgkD"
      },
      "execution_count": 10,
      "outputs": []
    },
    {
      "cell_type": "code",
      "source": [
        "#encoding the entire dataset in integers so that it is easire to work with\n",
        "import torch #using PyTorch\n",
        "data = torch.tensor(encode(text), dtype=torch.long)\n",
        "print(data.shape, data.type)\n",
        "print(data[:1000]) #first 1000 characters as integer\n"
      ],
      "metadata": {
        "colab": {
          "base_uri": "https://localhost:8080/"
        },
        "id": "1eFEErWYtWLC",
        "outputId": "2196a893-8ac7-42de-bda1-0bd54383e33b"
      },
      "execution_count": 11,
      "outputs": [
        {
          "output_type": "stream",
          "name": "stdout",
          "text": [
            "torch.Size([1115394]) <built-in method type of Tensor object at 0x792accaef510>\n",
            "tensor([18, 47, 56, 57, 58,  1, 15, 47, 58, 47, 64, 43, 52, 10,  0, 14, 43, 44,\n",
            "        53, 56, 43,  1, 61, 43,  1, 54, 56, 53, 41, 43, 43, 42,  1, 39, 52, 63,\n",
            "         1, 44, 59, 56, 58, 46, 43, 56,  6,  1, 46, 43, 39, 56,  1, 51, 43,  1,\n",
            "        57, 54, 43, 39, 49,  8,  0,  0, 13, 50, 50, 10,  0, 31, 54, 43, 39, 49,\n",
            "         6,  1, 57, 54, 43, 39, 49,  8,  0,  0, 18, 47, 56, 57, 58,  1, 15, 47,\n",
            "        58, 47, 64, 43, 52, 10,  0, 37, 53, 59,  1, 39, 56, 43,  1, 39, 50, 50,\n",
            "         1, 56, 43, 57, 53, 50, 60, 43, 42,  1, 56, 39, 58, 46, 43, 56,  1, 58,\n",
            "        53,  1, 42, 47, 43,  1, 58, 46, 39, 52,  1, 58, 53,  1, 44, 39, 51, 47,\n",
            "        57, 46, 12,  0,  0, 13, 50, 50, 10,  0, 30, 43, 57, 53, 50, 60, 43, 42,\n",
            "         8,  1, 56, 43, 57, 53, 50, 60, 43, 42,  8,  0,  0, 18, 47, 56, 57, 58,\n",
            "         1, 15, 47, 58, 47, 64, 43, 52, 10,  0, 18, 47, 56, 57, 58,  6,  1, 63,\n",
            "        53, 59,  1, 49, 52, 53, 61,  1, 15, 39, 47, 59, 57,  1, 25, 39, 56, 41,\n",
            "        47, 59, 57,  1, 47, 57,  1, 41, 46, 47, 43, 44,  1, 43, 52, 43, 51, 63,\n",
            "         1, 58, 53,  1, 58, 46, 43,  1, 54, 43, 53, 54, 50, 43,  8,  0,  0, 13,\n",
            "        50, 50, 10,  0, 35, 43,  1, 49, 52, 53, 61,  5, 58,  6,  1, 61, 43,  1,\n",
            "        49, 52, 53, 61,  5, 58,  8,  0,  0, 18, 47, 56, 57, 58,  1, 15, 47, 58,\n",
            "        47, 64, 43, 52, 10,  0, 24, 43, 58,  1, 59, 57,  1, 49, 47, 50, 50,  1,\n",
            "        46, 47, 51,  6,  1, 39, 52, 42,  1, 61, 43,  5, 50, 50,  1, 46, 39, 60,\n",
            "        43,  1, 41, 53, 56, 52,  1, 39, 58,  1, 53, 59, 56,  1, 53, 61, 52,  1,\n",
            "        54, 56, 47, 41, 43,  8,  0, 21, 57,  5, 58,  1, 39,  1, 60, 43, 56, 42,\n",
            "        47, 41, 58, 12,  0,  0, 13, 50, 50, 10,  0, 26, 53,  1, 51, 53, 56, 43,\n",
            "         1, 58, 39, 50, 49, 47, 52, 45,  1, 53, 52,  5, 58, 11,  1, 50, 43, 58,\n",
            "         1, 47, 58,  1, 40, 43,  1, 42, 53, 52, 43, 10,  1, 39, 61, 39, 63,  6,\n",
            "         1, 39, 61, 39, 63,  2,  0,  0, 31, 43, 41, 53, 52, 42,  1, 15, 47, 58,\n",
            "        47, 64, 43, 52, 10,  0, 27, 52, 43,  1, 61, 53, 56, 42,  6,  1, 45, 53,\n",
            "        53, 42,  1, 41, 47, 58, 47, 64, 43, 52, 57,  8,  0,  0, 18, 47, 56, 57,\n",
            "        58,  1, 15, 47, 58, 47, 64, 43, 52, 10,  0, 35, 43,  1, 39, 56, 43,  1,\n",
            "        39, 41, 41, 53, 59, 52, 58, 43, 42,  1, 54, 53, 53, 56,  1, 41, 47, 58,\n",
            "        47, 64, 43, 52, 57,  6,  1, 58, 46, 43,  1, 54, 39, 58, 56, 47, 41, 47,\n",
            "        39, 52, 57,  1, 45, 53, 53, 42,  8,  0, 35, 46, 39, 58,  1, 39, 59, 58,\n",
            "        46, 53, 56, 47, 58, 63,  1, 57, 59, 56, 44, 43, 47, 58, 57,  1, 53, 52,\n",
            "         1, 61, 53, 59, 50, 42,  1, 56, 43, 50, 47, 43, 60, 43,  1, 59, 57, 10,\n",
            "         1, 47, 44,  1, 58, 46, 43, 63,  0, 61, 53, 59, 50, 42,  1, 63, 47, 43,\n",
            "        50, 42,  1, 59, 57,  1, 40, 59, 58,  1, 58, 46, 43,  1, 57, 59, 54, 43,\n",
            "        56, 44, 50, 59, 47, 58, 63,  6,  1, 61, 46, 47, 50, 43,  1, 47, 58,  1,\n",
            "        61, 43, 56, 43,  0, 61, 46, 53, 50, 43, 57, 53, 51, 43,  6,  1, 61, 43,\n",
            "         1, 51, 47, 45, 46, 58,  1, 45, 59, 43, 57, 57,  1, 58, 46, 43, 63,  1,\n",
            "        56, 43, 50, 47, 43, 60, 43, 42,  1, 59, 57,  1, 46, 59, 51, 39, 52, 43,\n",
            "        50, 63, 11,  0, 40, 59, 58,  1, 58, 46, 43, 63,  1, 58, 46, 47, 52, 49,\n",
            "         1, 61, 43,  1, 39, 56, 43,  1, 58, 53, 53,  1, 42, 43, 39, 56, 10,  1,\n",
            "        58, 46, 43,  1, 50, 43, 39, 52, 52, 43, 57, 57,  1, 58, 46, 39, 58,  0,\n",
            "        39, 44, 44, 50, 47, 41, 58, 57,  1, 59, 57,  6,  1, 58, 46, 43,  1, 53,\n",
            "        40, 48, 43, 41, 58,  1, 53, 44,  1, 53, 59, 56,  1, 51, 47, 57, 43, 56,\n",
            "        63,  6,  1, 47, 57,  1, 39, 57,  1, 39, 52,  0, 47, 52, 60, 43, 52, 58,\n",
            "        53, 56, 63,  1, 58, 53,  1, 54, 39, 56, 58, 47, 41, 59, 50, 39, 56, 47,\n",
            "        57, 43,  1, 58, 46, 43, 47, 56,  1, 39, 40, 59, 52, 42, 39, 52, 41, 43,\n",
            "        11,  1, 53, 59, 56,  0, 57, 59, 44, 44, 43, 56, 39, 52, 41, 43,  1, 47,\n",
            "        57,  1, 39,  1, 45, 39, 47, 52,  1, 58, 53,  1, 58, 46, 43, 51,  1, 24,\n",
            "        43, 58,  1, 59, 57,  1, 56, 43, 60, 43, 52, 45, 43,  1, 58, 46, 47, 57,\n",
            "         1, 61, 47, 58, 46,  0, 53, 59, 56,  1, 54, 47, 49, 43, 57,  6,  1, 43,\n",
            "        56, 43,  1, 61, 43,  1, 40, 43, 41, 53, 51, 43,  1, 56, 39, 49, 43, 57,\n",
            "        10,  1, 44, 53, 56,  1, 58, 46, 43,  1, 45, 53, 42, 57,  1, 49, 52, 53,\n",
            "        61,  1, 21,  0, 57, 54, 43, 39, 49,  1, 58, 46, 47, 57,  1, 47, 52,  1,\n",
            "        46, 59, 52, 45, 43, 56,  1, 44, 53, 56,  1, 40, 56, 43, 39, 42,  6,  1,\n",
            "        52, 53, 58,  1, 47, 52,  1, 58, 46, 47, 56, 57, 58,  1, 44, 53, 56,  1,\n",
            "        56, 43, 60, 43, 52, 45, 43,  8,  0,  0])\n"
          ]
        }
      ]
    },
    {
      "cell_type": "code",
      "source": [
        "#splitting data for training and testing\n",
        "n = int(0.6*len(data)) #90% for training & 10% for testing\n",
        "train_data = data[:n]\n",
        "val_data = data[n:]"
      ],
      "metadata": {
        "id": "vM02wOe1tjFV"
      },
      "execution_count": 12,
      "outputs": []
    },
    {
      "cell_type": "code",
      "execution_count": null,
      "metadata": {
        "execution": {
          "iopub.execute_input": "2020-10-04T17:15:44.022125Z",
          "iopub.status.busy": "2020-10-04T17:15:44.021355Z",
          "iopub.status.idle": "2020-10-04T17:15:44.023952Z",
          "shell.execute_reply": "2020-10-04T17:15:44.024393Z"
        },
        "papermill": {
          "duration": 0.023735,
          "end_time": "2020-10-04T17:15:44.024507",
          "exception": false,
          "start_time": "2020-10-04T17:15:44.000772",
          "status": "completed"
        },
        "tags": [],
        "id": "xvvbHmGHsmeW"
      },
      "outputs": [],
      "source": [
        "block_size = 128"
      ]
    },
    {
      "cell_type": "code",
      "execution_count": null,
      "metadata": {
        "execution": {
          "iopub.execute_input": "2020-10-04T17:15:43.981493Z",
          "iopub.status.busy": "2020-10-04T17:15:43.980671Z",
          "iopub.status.idle": "2020-10-04T17:15:43.983508Z",
          "shell.execute_reply": "2020-10-04T17:15:43.983019Z"
        },
        "papermill": {
          "duration": 0.032601,
          "end_time": "2020-10-04T17:15:43.983599",
          "exception": false,
          "start_time": "2020-10-04T17:15:43.950998",
          "status": "completed"
        },
        "tags": [],
        "id": "-VcgDy6rsmeW"
      },
      "outputs": [],
      "source": [
        "class PoemDatset(Dataset):\n",
        "\n",
        "    def __init__(self, data, block_size):\n",
        "        chars = sorted(list(set(data)))\n",
        "        data_size, vocab_size = len(data), len(chars)\n",
        "        print('data has %d characters, %d unique.' % (data_size, vocab_size))\n",
        "\n",
        "        self.stoi = { ch:i for i,ch in enumerate(chars) }\n",
        "        self.itos = { i:ch for i,ch in enumerate(chars) }\n",
        "        self.block_size = block_size\n",
        "        self.vocab_size = vocab_size\n",
        "        self.data = data\n",
        "\n",
        "    def __len__(self):\n",
        "        return len(self.data) - self.block_size\n",
        "\n",
        "    def __getitem__(self, idx):\n",
        "        # grab a chunk of (block_size + 1) characters from the data\n",
        "        chunk = self.data[idx:idx + self.block_size + 1]\n",
        "        # encode every character to an integer\n",
        "        dix = [self.stoi[s] for s in chunk]\n",
        "\n",
        "        x = torch.tensor(dix[:-1], dtype=torch.long)\n",
        "        y = torch.tensor(dix[1:], dtype=torch.long)\n",
        "        return x, y"
      ]
    },
    {
      "cell_type": "code",
      "execution_count": null,
      "metadata": {
        "execution": {
          "iopub.execute_input": "2020-10-04T17:15:44.064008Z",
          "iopub.status.busy": "2020-10-04T17:15:44.063228Z",
          "iopub.status.idle": "2020-10-04T17:15:44.066807Z",
          "shell.execute_reply": "2020-10-04T17:15:44.067433Z"
        },
        "papermill": {
          "duration": 0.025787,
          "end_time": "2020-10-04T17:15:44.067571",
          "exception": false,
          "start_time": "2020-10-04T17:15:44.041784",
          "status": "completed"
        },
        "tags": [],
        "id": "QoA8jeOIsmeX",
        "outputId": "16e09346-f061-464d-e060-a3d2da6aabd8"
      },
      "outputs": [
        {
          "name": "stdout",
          "output_type": "stream",
          "text": [
            "data has 20146 characters, 69 unique.\n"
          ]
        }
      ],
      "source": [
        "train_dataset = PoemDatset(data, block_size)"
      ]
    },
    {
      "cell_type": "code",
      "execution_count": null,
      "metadata": {
        "execution": {
          "iopub.execute_input": "2020-10-04T17:15:44.109047Z",
          "iopub.status.busy": "2020-10-04T17:15:44.108196Z",
          "iopub.status.idle": "2020-10-04T17:15:44.176389Z",
          "shell.execute_reply": "2020-10-04T17:15:44.175914Z"
        },
        "papermill": {
          "duration": 0.090428,
          "end_time": "2020-10-04T17:15:44.176501",
          "exception": false,
          "start_time": "2020-10-04T17:15:44.086073",
          "status": "completed"
        },
        "tags": [],
        "id": "dla-32KQsmeX"
      },
      "outputs": [],
      "source": [
        "from model import GPT, GPTConfig\n",
        "mconf = GPTConfig(train_dataset.vocab_size, train_dataset.block_size,\n",
        "                  n_layer=8, n_head=8, n_embd=128)\n",
        "model = GPT(mconf)"
      ]
    },
    {
      "cell_type": "markdown",
      "metadata": {
        "papermill": {
          "duration": 0.017779,
          "end_time": "2020-10-04T17:15:44.212111",
          "exception": false,
          "start_time": "2020-10-04T17:15:44.194332",
          "status": "completed"
        },
        "tags": [],
        "id": "4SZKzUjNsmeX"
      },
      "source": [
        "##### initialize a trainer instance and kick off training\n"
      ]
    },
    {
      "cell_type": "code",
      "source": [
        "#explaining more systematically\n",
        "x = train_data[:block_size]\n",
        "y = train_data[1:block_size+1]\n",
        "for t in range(block_size):\n",
        "  context = x[:t+1]\n",
        "  target = y[t]\n",
        "  print(f\"when input is {context} the target: {target}\")\n",
        "  #for a block when train in all these contexts\n",
        "# this training method helps the transformer get used to seeing context from length 1 to length of block size"
      ],
      "metadata": {
        "colab": {
          "base_uri": "https://localhost:8080/"
        },
        "id": "APZ1f3kIuJqR",
        "outputId": "cbcde006-0132-4cda-e4f3-10e32dfdf4da"
      },
      "execution_count": 15,
      "outputs": [
        {
          "output_type": "stream",
          "name": "stdout",
          "text": [
            "when input is tensor([18]) the target: 47\n",
            "when input is tensor([18, 47]) the target: 56\n",
            "when input is tensor([18, 47, 56]) the target: 57\n",
            "when input is tensor([18, 47, 56, 57]) the target: 58\n",
            "when input is tensor([18, 47, 56, 57, 58]) the target: 1\n",
            "when input is tensor([18, 47, 56, 57, 58,  1]) the target: 15\n",
            "when input is tensor([18, 47, 56, 57, 58,  1, 15]) the target: 47\n",
            "when input is tensor([18, 47, 56, 57, 58,  1, 15, 47]) the target: 58\n"
          ]
        }
      ]
    },
    {
      "cell_type": "code",
      "source": [
        "# mini batching the blocks for parallel processing in gpu for higher efficincy\n",
        "torch.manual_seed(1337) #seed can be random\n",
        "batch_size = 4 #the number of independent sequences we will process in parallel\n",
        "block_size = 8 #maximum context length\n",
        "\n",
        "def get_batch(split):\n",
        "    #generate a small batch of data of inputs x and targets y\n",
        "    data = train_data if split == 'train' else val_data\n",
        "    ix = torch.randint(len(data) - block_size, (batch_size,)) #random offest in training data\n",
        "    x = torch.stack([data[i:i+block_size] for i in ix]) #stacking the one dimension tensor\n",
        "    y = torch.stack([data[i+1:i+block_size+1] for i in ix]) #making a 4 by 8 tensor\n",
        "    return x,y\n",
        "\n",
        "xb, yb = get_batch('train')\n",
        "print('inputs:')\n",
        "print(xb.shape)\n",
        "print(xb)\n",
        "print('targets:')\n",
        "print(yb.shape)\n",
        "print(yb)\n",
        "\n",
        "print('-----')\n",
        "\n",
        "for b in range(batch_size): #batch dimension\n",
        "    for t in range(block_size): #time dimension\n",
        "        context = xb[b, :t+1]\n",
        "        taget = yb[b,t]\n",
        "        print(f\"when input is {context.tolist()} the target: {target}\")\n",
        "\n",
        "#it feeds the tansformer the 4X8 matrix for input and a 4X8 matrix of targets so it can match\n",
        "#input to their coresponding targets. for input 4,3 the target is also at 4,3"
      ],
      "metadata": {
        "colab": {
          "base_uri": "https://localhost:8080/"
        },
        "id": "VGx3ehgZuFU-",
        "outputId": "fee9e2fa-db2b-42bd-ef8f-246545f6d59c"
      },
      "execution_count": 16,
      "outputs": [
        {
          "output_type": "stream",
          "name": "stdout",
          "text": [
            "inputs:\n",
            "torch.Size([4, 8])\n",
            "tensor([[39, 57,  1, 58, 46, 47, 57,  1],\n",
            "        [17, 31, 32, 17, 30, 10,  0, 15],\n",
            "        [58, 46, 43, 56,  6,  1, 32, 63],\n",
            "        [53, 59,  1, 39, 56, 58,  1, 57]])\n",
            "targets:\n",
            "torch.Size([4, 8])\n",
            "tensor([[57,  1, 58, 46, 47, 57,  1, 44],\n",
            "        [31, 32, 17, 30, 10,  0, 15, 53],\n",
            "        [46, 43, 56,  6,  1, 32, 63, 56],\n",
            "        [59,  1, 39, 56, 58,  1, 57, 61]])\n",
            "-----\n",
            "when input is [39] the target: 58\n",
            "when input is [39, 57] the target: 58\n",
            "when input is [39, 57, 1] the target: 58\n",
            "when input is [39, 57, 1, 58] the target: 58\n",
            "when input is [39, 57, 1, 58, 46] the target: 58\n",
            "when input is [39, 57, 1, 58, 46, 47] the target: 58\n",
            "when input is [39, 57, 1, 58, 46, 47, 57] the target: 58\n",
            "when input is [39, 57, 1, 58, 46, 47, 57, 1] the target: 58\n",
            "when input is [17] the target: 58\n",
            "when input is [17, 31] the target: 58\n",
            "when input is [17, 31, 32] the target: 58\n",
            "when input is [17, 31, 32, 17] the target: 58\n",
            "when input is [17, 31, 32, 17, 30] the target: 58\n",
            "when input is [17, 31, 32, 17, 30, 10] the target: 58\n",
            "when input is [17, 31, 32, 17, 30, 10, 0] the target: 58\n",
            "when input is [17, 31, 32, 17, 30, 10, 0, 15] the target: 58\n",
            "when input is [58] the target: 58\n",
            "when input is [58, 46] the target: 58\n",
            "when input is [58, 46, 43] the target: 58\n",
            "when input is [58, 46, 43, 56] the target: 58\n",
            "when input is [58, 46, 43, 56, 6] the target: 58\n",
            "when input is [58, 46, 43, 56, 6, 1] the target: 58\n",
            "when input is [58, 46, 43, 56, 6, 1, 32] the target: 58\n",
            "when input is [58, 46, 43, 56, 6, 1, 32, 63] the target: 58\n",
            "when input is [53] the target: 58\n",
            "when input is [53, 59] the target: 58\n",
            "when input is [53, 59, 1] the target: 58\n",
            "when input is [53, 59, 1, 39] the target: 58\n",
            "when input is [53, 59, 1, 39, 56] the target: 58\n",
            "when input is [53, 59, 1, 39, 56, 58] the target: 58\n",
            "when input is [53, 59, 1, 39, 56, 58, 1] the target: 58\n",
            "when input is [53, 59, 1, 39, 56, 58, 1, 57] the target: 58\n"
          ]
        }
      ]
    },
    {
      "cell_type": "code",
      "source": [
        "\n",
        "import torch\n",
        "import torch.nn as nn\n",
        "from torch.nn import functional as F\n",
        "torch.manual_seed(1337)\n",
        "\n",
        "class BigramLanguageModel(nn.Module):\n",
        "\n",
        "    def __init__(self, vocab_size):\n",
        "        super().__init__()\n",
        "        # each token directly reads off the logits for the next token from a lookup table\n",
        "        self.token_embedding_table = nn.Embedding(vocab_size, vocab_size)\n",
        "\n",
        "    def forward(self, idx, targets=None):\n",
        "\n",
        "        # idx and targets are both (B,T) tensor of integers\n",
        "        logits = self.token_embedding_table(idx) # (B,T,C)\n",
        "\n",
        "        if targets is None:\n",
        "            loss = None\n",
        "        else:\n",
        "            B, T, C = logits.shape\n",
        "            logits = logits.view(B*T, C)\n",
        "            targets = targets.view(B*T)\n",
        "            loss = F.cross_entropy(logits, targets)\n",
        "\n",
        "        return logits, loss\n",
        "\n",
        "    def generate(self, idx, max_new_tokens):\n",
        "        # idx is (B, T) array of indices in the current context\n",
        "        for _ in range(max_new_tokens):\n",
        "            # get the predictions\n",
        "            logits, loss = self(idx)\n",
        "            # focus only on the last time step\n",
        "            logits = logits[:, -1, :] # becomes (B, C)\n",
        "            # apply softmax to get probabilities\n",
        "            probs = F.softmax(logits, dim=-1) # (B, C)\n",
        "            # sample from the distribution\n",
        "            idx_next = torch.multinomial(probs, num_samples=1) # (B, 1)\n",
        "            # append sampled index to the running sequence\n",
        "            idx = torch.cat((idx, idx_next), dim=1) # (B, T+1)\n",
        "        return idx\n",
        "\n",
        "m = BigramLanguageModel(vocab_size)\n",
        "logits, loss = m(xb, yb)\n",
        "print(logits.shape)\n",
        "print(loss)\n",
        "\n",
        "print(decode(m.generate(idx = torch.zeros((1, 1), dtype=torch.long), max_new_tokens=100)[0].tolist()))\n",
        "# the prediction is grabage because it only using one character to predict next character but we will use longer context later"
      ],
      "metadata": {
        "colab": {
          "base_uri": "https://localhost:8080/"
        },
        "id": "u9kBC5o2t-Or",
        "outputId": "2ecb8b80-b7cf-40e5-b25e-c81ba851e9b7"
      },
      "execution_count": 17,
      "outputs": [
        {
          "output_type": "stream",
          "name": "stdout",
          "text": [
            "torch.Size([32, 65])\n",
            "tensor(4.6082, grad_fn=<NllLossBackward0>)\n",
            "\n",
            "Sr?qP-QWktXoL&jLDJgOLVz'RIoDqHdhsV&vLLxatjscMpwLERSPyao.qfzs$Ys$zF-w,;eEkzxjgCKFChs!iWW.ObzDnxA Ms$3\n"
          ]
        }
      ]
    },
    {
      "cell_type": "code",
      "execution_count": null,
      "metadata": {
        "execution": {
          "iopub.execute_input": "2020-10-04T17:15:44.254403Z",
          "iopub.status.busy": "2020-10-04T17:15:44.253537Z",
          "iopub.status.idle": "2020-10-04T17:35:06.052092Z",
          "shell.execute_reply": "2020-10-04T17:35:06.052576Z"
        },
        "papermill": {
          "duration": 1161.82243,
          "end_time": "2020-10-04T17:35:06.052731",
          "exception": false,
          "start_time": "2020-10-04T17:15:44.230301",
          "status": "completed"
        },
        "tags": [],
        "id": "1R0fWcYtsmeX",
        "outputId": "e501c471-78aa-4e73-ded3-ae756478e53f"
      },
      "outputs": [
        {
          "name": "stderr",
          "output_type": "stream",
          "text": [
            "epoch 1 iter 156: train loss 2.30137. lr 3.002355e-04: 100%|██████████| 157/157 [00:23<00:00,  6.71it/s]\n",
            "epoch 2 iter 156: train loss 2.26963. lr 6.000000e-05: 100%|██████████| 157/157 [00:22<00:00,  6.88it/s]\n",
            "epoch 3 iter 156: train loss 2.18049. lr 3.002355e-04: 100%|██████████| 157/157 [00:22<00:00,  6.93it/s]\n",
            "epoch 4 iter 156: train loss 1.91827. lr 5.999996e-04: 100%|██████████| 157/157 [00:23<00:00,  6.80it/s]\n",
            "epoch 5 iter 156: train loss 1.47330. lr 2.992934e-04: 100%|██████████| 157/157 [00:23<00:00,  6.82it/s]\n",
            "epoch 6 iter 156: train loss 1.30616. lr 6.000000e-05: 100%|██████████| 157/157 [00:23<00:00,  6.82it/s]\n",
            "epoch 7 iter 156: train loss 1.21500. lr 3.011776e-04: 100%|██████████| 157/157 [00:23<00:00,  6.76it/s]\n",
            "epoch 8 iter 156: train loss 0.95630. lr 5.999967e-04: 100%|██████████| 157/157 [00:23<00:00,  6.75it/s]\n",
            "epoch 9 iter 156: train loss 0.63780. lr 2.983513e-04: 100%|██████████| 157/157 [00:22<00:00,  6.85it/s]\n",
            "epoch 10 iter 156: train loss 0.47310. lr 6.000000e-05: 100%|██████████| 157/157 [00:23<00:00,  6.77it/s]\n",
            "epoch 11 iter 156: train loss 0.47331. lr 3.021197e-04: 100%|██████████| 157/157 [00:22<00:00,  6.86it/s]\n",
            "epoch 12 iter 156: train loss 0.43055. lr 5.999908e-04: 100%|██████████| 157/157 [00:23<00:00,  6.75it/s]\n",
            "epoch 13 iter 156: train loss 0.30340. lr 2.974093e-04: 100%|██████████| 157/157 [00:22<00:00,  6.91it/s]\n",
            "epoch 14 iter 156: train loss 0.22309. lr 6.000000e-05: 100%|██████████| 157/157 [00:23<00:00,  6.81it/s]\n",
            "epoch 15 iter 156: train loss 0.24486. lr 3.030618e-04: 100%|██████████| 157/157 [00:23<00:00,  6.67it/s]\n",
            "epoch 16 iter 156: train loss 0.25599. lr 5.999819e-04: 100%|██████████| 157/157 [00:22<00:00,  6.86it/s]\n",
            "epoch 17 iter 156: train loss 0.19093. lr 2.964672e-04: 100%|██████████| 157/157 [00:23<00:00,  6.66it/s]\n",
            "epoch 18 iter 156: train loss 0.15112. lr 6.000000e-05: 100%|██████████| 157/157 [00:23<00:00,  6.77it/s]\n",
            "epoch 19 iter 156: train loss 0.17229. lr 3.040038e-04: 100%|██████████| 157/157 [00:22<00:00,  6.84it/s]\n",
            "epoch 20 iter 156: train loss 0.19024. lr 5.999700e-04: 100%|██████████| 157/157 [00:23<00:00,  6.72it/s]\n",
            "epoch 21 iter 156: train loss 0.15535. lr 2.955252e-04: 100%|██████████| 157/157 [00:23<00:00,  6.72it/s]\n",
            "epoch 22 iter 156: train loss 0.12571. lr 6.000000e-05: 100%|██████████| 157/157 [00:23<00:00,  6.72it/s]\n",
            "epoch 23 iter 156: train loss 0.14152. lr 3.049458e-04: 100%|██████████| 157/157 [00:22<00:00,  6.92it/s]\n",
            "epoch 24 iter 156: train loss 0.15523. lr 5.999553e-04: 100%|██████████| 157/157 [00:23<00:00,  6.82it/s]\n",
            "epoch 25 iter 156: train loss 0.12876. lr 2.945832e-04: 100%|██████████| 157/157 [00:23<00:00,  6.66it/s]\n",
            "epoch 26 iter 156: train loss 0.10783. lr 6.000000e-05: 100%|██████████| 157/157 [00:22<00:00,  6.95it/s]\n",
            "epoch 27 iter 156: train loss 0.11837. lr 3.058878e-04: 100%|██████████| 157/157 [00:22<00:00,  6.85it/s]\n",
            "epoch 28 iter 156: train loss 0.13548. lr 5.999375e-04: 100%|██████████| 157/157 [00:23<00:00,  6.70it/s]\n",
            "epoch 29 iter 156: train loss 0.11747. lr 2.936413e-04: 100%|██████████| 157/157 [00:22<00:00,  6.97it/s]\n",
            "epoch 30 iter 156: train loss 0.09234. lr 6.000000e-05: 100%|██████████| 157/157 [00:23<00:00,  6.65it/s]\n",
            "epoch 31 iter 156: train loss 0.10669. lr 3.068296e-04: 100%|██████████| 157/157 [00:23<00:00,  6.74it/s]\n",
            "epoch 32 iter 156: train loss 0.12049. lr 5.999168e-04: 100%|██████████| 157/157 [00:22<00:00,  6.91it/s]\n",
            "epoch 33 iter 156: train loss 0.10672. lr 2.926994e-04: 100%|██████████| 157/157 [00:23<00:00,  6.68it/s]\n",
            "epoch 34 iter 156: train loss 0.08783. lr 6.000000e-05: 100%|██████████| 157/157 [00:23<00:00,  6.80it/s]\n",
            "epoch 35 iter 156: train loss 0.09600. lr 3.077715e-04: 100%|██████████| 157/157 [00:23<00:00,  6.76it/s]\n",
            "epoch 36 iter 156: train loss 0.10929. lr 5.998931e-04: 100%|██████████| 157/157 [00:23<00:00,  6.68it/s]\n",
            "epoch 37 iter 156: train loss 0.09589. lr 2.917577e-04: 100%|██████████| 157/157 [00:22<00:00,  6.87it/s]\n",
            "epoch 38 iter 156: train loss 0.08246. lr 6.000000e-05: 100%|██████████| 157/157 [00:23<00:00,  6.74it/s]\n",
            "epoch 39 iter 156: train loss 0.09098. lr 3.087132e-04: 100%|██████████| 157/157 [00:23<00:00,  6.72it/s]\n",
            "epoch 40 iter 156: train loss 0.10085. lr 5.998665e-04: 100%|██████████| 157/157 [00:22<00:00,  6.87it/s]\n",
            "epoch 41 iter 156: train loss 0.09578. lr 2.908160e-04: 100%|██████████| 157/157 [00:23<00:00,  6.62it/s]\n",
            "epoch 42 iter 156: train loss 0.07879. lr 6.000000e-05: 100%|██████████| 157/157 [00:23<00:00,  6.67it/s]\n",
            "epoch 43 iter 156: train loss 0.08794. lr 3.096549e-04: 100%|██████████| 157/157 [00:22<00:00,  6.85it/s]\n",
            "epoch 44 iter 156: train loss 0.10129. lr 5.998369e-04: 100%|██████████| 157/157 [00:23<00:00,  6.70it/s]\n",
            "epoch 45 iter 156: train loss 0.09220. lr 2.898743e-04: 100%|██████████| 157/157 [00:22<00:00,  6.95it/s]\n",
            "epoch 46 iter 156: train loss 0.07480. lr 6.000000e-05: 100%|██████████| 157/157 [00:22<00:00,  6.87it/s]\n",
            "epoch 47 iter 156: train loss 0.08155. lr 3.105964e-04: 100%|██████████| 157/157 [00:23<00:00,  6.73it/s]\n",
            "epoch 48 iter 156: train loss 0.09569. lr 5.998044e-04: 100%|██████████| 157/157 [00:22<00:00,  6.92it/s]\n",
            "epoch 49 iter 156: train loss 0.08517. lr 2.889328e-04: 100%|██████████| 157/157 [00:22<00:00,  6.93it/s]\n",
            "epoch 50 iter 156: train loss 0.07033. lr 6.000000e-05: 100%|██████████| 157/157 [00:23<00:00,  6.62it/s]\n"
          ]
        }
      ],
      "source": [
        "from trainer import Trainer, TrainerConfig\n",
        "\n",
        "tconf = TrainerConfig(max_epochs=50, batch_size=128, learning_rate=6e-4,\n",
        "                      lr_decay=True, warmup_tokens=128*20, final_tokens=2*len(train_dataset)*block_size)\n",
        "trainer = Trainer(model, train_dataset, None, tconf)\n",
        "trainer.train()"
      ]
    },
    {
      "cell_type": "code",
      "execution_count": null,
      "metadata": {
        "execution": {
          "iopub.execute_input": "2020-10-04T17:35:28.440917Z",
          "iopub.status.busy": "2020-10-04T17:35:28.439924Z",
          "iopub.status.idle": "2020-10-04T17:35:42.362610Z",
          "shell.execute_reply": "2020-10-04T17:35:42.362118Z"
        },
        "papermill": {
          "duration": 19.457367,
          "end_time": "2020-10-04T17:35:42.362731",
          "exception": false,
          "start_time": "2020-10-04T17:35:22.905364",
          "status": "completed"
        },
        "tags": [],
        "id": "kBblfqYwsmeX",
        "outputId": "96cd3cba-a744-40e4-8db8-29156c3e3619"
      },
      "outputs": [
        {
          "name": "stdout",
          "output_type": "stream",
          "text": [
            "What chance, good lady, hath bereft you thus? —COMUS.    IT was a quiet and still afternoon when I strolled forth in the goodly city of Edina. The confusion and bustle in the streets were terrible. Men were talking. Women were screaming. Children were choking. Pigs were whistling. Carts they rattled. Bulls they bellowed. Cows they lowed. Horses they neighed. Cats they caterwauled. Dogs they danced. Danced! Could it then be possible? Danced! Alas, thought I, my dancing days are over! Thus it is ever. What a host of gloomy recollections will ever and anon be awakened in the mind of genius and imaginative contemplation, especially of a genius doomed to the everlasting and eternal, and continual, and, as one might say, the—continued—yes, the continued and continuous, bitter, harassing, disturbing, and, if I may be allowed the expression, the very disturbing influence of the serene, and godlike, and heavenly, and exalted, and elevated, and purifying effect of what may be rightly termed the most enviable, the most truly enviable—nay! the most benignly beautiful, the most deliciously ethereal, and, as it were, the most pretty (if I may use so bold an expression) thing (pardon me, gentle reader!) in the world—but I am always led away by my feelings. In such a mind, I repeat, what a host of recollections are stirred up by a trifle! The dogs danced! I—I could not! They frisked—I wept. They capered—I sobbed aloud. Touching circumstances! which cannot fail to bring to the recollection of the classical reader that exquisite passage in relation to the fitness of things, which is to be found in the commencement of the third volume of that admirable and venerable Chinese novel the Jo-Go-Slow.      In my solitary walk through, the city I had two humble but faithful companions. Diana, my poodle! sweetest of creatures! She had a quantity of hair over her one eye, and a blue ribband tied fashionably around her neck. Diana was not more than five inches in height, but her head was somewhat bigger than her bod\n"
          ]
        }
      ],
      "source": [
        "#character level\n",
        "from utils import sample\n",
        "\n",
        "context = \"What chance, good lady\"\n",
        "x = torch.tensor([train_dataset.stoi[s] for s in context], dtype=torch.long)[None,...].to(trainer.device)\n",
        "y = sample(model, x, 2000, temperature=1.0, sample=True, top_k=10)[0]\n",
        "completion = ''.join([train_dataset.itos[int(i)] for i in y])\n",
        "print(completion)"
      ]
    }
  ],
  "metadata": {
    "kernelspec": {
      "display_name": "Python 3",
      "language": "python",
      "name": "python3"
    },
    "language_info": {
      "codemirror_mode": {
        "name": "ipython",
        "version": 3
      },
      "file_extension": ".py",
      "mimetype": "text/x-python",
      "name": "python",
      "nbconvert_exporter": "python",
      "pygments_lexer": "ipython3",
      "version": "3.7.6"
    },
    "papermill": {
      "duration": 1233.115282,
      "end_time": "2020-10-04T17:36:10.416490",
      "environment_variables": {},
      "exception": null,
      "input_path": "__notebook__.ipynb",
      "output_path": "__notebook__.ipynb",
      "parameters": {},
      "start_time": "2020-10-04T17:15:37.301208",
      "version": "2.1.0"
    },
    "colab": {
      "provenance": []
    }
  },
  "nbformat": 4,
  "nbformat_minor": 0
}